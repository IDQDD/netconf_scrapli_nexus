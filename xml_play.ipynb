{
 "metadata": {
  "language_info": {
   "codemirror_mode": {
    "name": "ipython",
    "version": 3
   },
   "file_extension": ".py",
   "mimetype": "text/x-python",
   "name": "python",
   "nbconvert_exporter": "python",
   "pygments_lexer": "ipython3",
   "version": "3.8.5-final"
  },
  "orig_nbformat": 2,
  "kernelspec": {
   "name": "python3",
   "display_name": "Python 3"
  }
 },
 "nbformat": 4,
 "nbformat_minor": 2,
 "cells": [
  {
   "cell_type": "code",
   "execution_count": 1,
   "metadata": {
    "tags": []
   },
   "outputs": [],
   "source": [
    "from lxml import etree\n",
    "import re \n",
    "\n",
    "et = etree.parse(\"evpn_data.xml\")\n",
    "#print(etree.tostring(et, pretty_print=True).decode())"
   ]
  },
  {
   "cell_type": "code",
   "execution_count": 2,
   "metadata": {},
   "outputs": [
    {
     "output_type": "stream",
     "name": "stdout",
     "text": [
      "[{'vlan': '20', 'vni': '10020'}, {'vlan': '30', 'vni': '10030'}, {'vlan': '101', 'vni': '900001'}]\n"
     ]
    }
   ],
   "source": [
    "# get existed vlans with vxlan (accEncap attribute) \n",
    "# and init evpn_data object\n",
    "evpn_data = []\n",
    "bd_list = et.xpath('.//BD-list[.//accEncap]')\n",
    "\n",
    "for bd in bd_list:\n",
    "    evpn = dict()\n",
    "    evpn[\"vlan\"] = bd.findtext(\"fabEncap\").split(\"-\")[1]\n",
    "    evpn[\"vni\"] = bd.findtext(\"accEncap\").split(\"-\")[1]\n",
    "    evpn_data.append(evpn)\n",
    "print(evpn_data)\n"
   ]
  },
  {
   "cell_type": "code",
   "execution_count": 16,
   "metadata": {},
   "outputs": [
    {
     "output_type": "stream",
     "name": "stdout",
     "text": [
      "[{'vlan': '20', 'vni': '10020', 'mtu': '1500', 'vrf': 'Tenant-1', 'ip_address': '10.0.20.254/24'}, {'vlan': '30', 'vni': '10030', 'mtu': '1500', 'vrf': 'Tenant-1', 'ip_address': '10.0.30.254/24'}, {'vlan': '101', 'vni': '900001', 'mtu': '1500', 'vrf': 'Tenant-1', 'ip_address': []}]\n"
     ]
    }
   ],
   "source": [
    "# enrich evpn_data with svi opts like mtu and vrf\n",
    "for item in evpn_data:    \n",
    "    vlan = f'vlan{item[\"vlan\"]}'\n",
    "    svi = et.xpath(f'.//svi-items/If-list[.//id=\"{vlan}\"]')[0]\n",
    "    item[\"mtu\"] = svi.findtext(\"mtu\")\n",
    "    vrf = svi.xpath('.//rtvrfMbr-items/tDn/text()')[0]\n",
    "    item[\"vrf\"] = re.split('[\\[\\]]', vrf)[1].split('=')[1].strip('\\'')\n",
    "print(evpn_data)"
   ]
  },
  {
   "cell_type": "code",
   "execution_count": 28,
   "metadata": {},
   "outputs": [
    {
     "output_type": "execute_result",
     "data": {
      "text/plain": [
       "list"
      ]
     },
     "metadata": {},
     "execution_count": 28
    }
   ],
   "source": [
    "ipv4item = et.xpath(f'.//if-items/If-list[.//id=\"vlan20\"]')[0]\n",
    "ip_address = ipv4item.xpath('.//addr-items/Addr-list/addr/text()')\n",
    "\n",
    "type(ip_address)\n"
   ]
  },
  {
   "cell_type": "code",
   "execution_count": 29,
   "metadata": {},
   "outputs": [
    {
     "output_type": "stream",
     "name": "stdout",
     "text": [
      "[{'vlan': '20', 'vni': '10020', 'mtu': '1500', 'vrf': 'Tenant-1', 'ip_address': ['10.0.20.254/24']}, {'vlan': '30', 'vni': '10030', 'mtu': '1500', 'vrf': 'Tenant-1', 'ip_address': ['10.0.30.254/24']}, {'vlan': '101', 'vni': '900001', 'mtu': '1500', 'vrf': 'Tenant-1', 'ip_address': []}]\n"
     ]
    }
   ],
   "source": [
    "# enrich evpn_data with ipv4 data\n",
    "for item in evpn_data:    \n",
    "    vlan = f'vlan{item[\"vlan\"]}'\n",
    "    ipv4item = et.xpath(f'.//if-items/If-list[.//id=\"{vlan}\"]')[0]\n",
    "    item[\"ip_address\"] = ipv4item.xpath('.//addr-items/Addr-list/addr/text()')\n",
    "    \n",
    "print(evpn_data)\n"
   ]
  },
  {
   "cell_type": "code",
   "execution_count": 24,
   "metadata": {},
   "outputs": [
    {
     "output_type": "stream",
     "name": "stdout",
     "text": [
      "vni: 10030; mcast: 230.1.1.1\nvni: 10020; mcast: 230.1.1.1\n"
     ]
    }
   ],
   "source": [
    "# filter out l2vni's\n",
    "vni_list = et.xpath('.//Nw-list[.//associateVrfFlag=\"false\"]')\n",
    "\n",
    "for vni in vni_list:\n",
    "    print (f'vni: {vni.findtext(\"vni\")}; mcast: {vni.findtext(\"mcastGroup\")}')\n"
   ]
  }
 ]
}