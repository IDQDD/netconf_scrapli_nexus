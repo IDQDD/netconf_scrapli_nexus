{
 "cells": [
  {
   "cell_type": "code",
   "execution_count": null,
   "metadata": {},
   "outputs": [],
   "source": [
    "def xpath2xml(xpath, xmlns='', remove=False):\n",
    "    #transforms xpath like string e.g. \"/System/eps-items/epId-items/Ep-list/epId=1/nws-items/vni-items/Nw-list[]/vni=10444\"\n",
    "    #to xml-like sequence of elements tags: \n",
    "    # <System xmlns=\"http://cisco.com/ns/yang/cisco-nx-os-device\">\n",
    "    #   <eps-items>\n",
    "    #       <epId-items>\n",
    "    #           <Ep-list>\n",
    "    #               <epId>1</epId>\n",
    "    #               <nws-items>\n",
    "    #                   <vni-items>\n",
    "    #                       <Nw-list operation=\"remove\">\n",
    "    #                           <vni>10444</vni>\n",
    "    #                       </Nw-list>\n",
    "    #                   </vni-items>\n",
    "    #               </nws-items>\n",
    "    #           </Ep-list>\n",
    "    #       </epId-items>\n",
    "    #   </eps-items>\n",
    "    # </System>\n",
    "    #\n",
    "    # it has optional parameter 'remove' that adds the string 'operation=\"remove\"' to the element marked with square brackets '[]'\n",
    "\n",
    "    pl = xpath.split('/')\n",
    "    \n",
    "    xmls = f'<{pl[1]} xmlns=\"{xmlns}\">' if xmlns else f'<{pl[1]}>'\n",
    "    xmle = f'</{pl[1]}>'\n",
    "     \n",
    "    def _xpath2xml(pl):\n",
    "        key = ''\n",
    "        xmls = ''\n",
    "        xmle = ''\n",
    "\n",
    "        for i in range(len(pl)):\n",
    "            elem = pl[i]\n",
    "            if \"=\" in elem:\n",
    "                elem,key = elem.split(\"=\")\n",
    "                xmls += f'<{elem}>{key}</{elem}>'\n",
    "                break\n",
    "            if \"[]\" in elem:\n",
    "                elem = elem[:-2]\n",
    "                if remove:\n",
    "                    xmls += f'<{elem} operation=\"remove\">'                \n",
    "                else:\n",
    "                    xmls += f'<{elem}>'\n",
    "            else:                    \n",
    "                xmls += f'<{elem}>'\n",
    "            xmle = f'</{elem}>' + xmle\n",
    "     \n",
    "        if key and i < len(pl)-1:\n",
    "            return xmls + _xpath2xml(pl[(i+1)::]) + xmle #recursion\n",
    "        else:\n",
    "            return xmls + xmle\n",
    "     \n",
    "    return xmls + _xpath2xml(pl[2::]) + xmle"
   ]
  },
  {
   "cell_type": "code",
   "execution_count": null,
   "metadata": {},
   "outputs": [],
   "source": [
    "from scrapli_netconf.driver import NetconfScrape\n",
    "my_device = {\n",
    "    \"host\": \"192.168.99.91\",\n",
    "    \"auth_username\": \"apiuser\",\n",
    "    \"auth_password\": \"apipassword\",\n",
    "    \"auth_strict_key\": False,    \n",
    "}\n",
    "\n",
    "conn = NetconfScrape(**my_device)\n",
    "conn.open()\n",
    "xmlns = \"http://cisco.com/ns/yang/cisco-nx-os-device\""
   ]
  },
  {
   "cell_type": "code",
   "execution_count": null,
   "metadata": {},
   "outputs": [],
   "source": [
    "vlan_id = 222\n",
    "vxlan_id = 10222"
   ]
  },
  {
   "cell_type": "code",
   "execution_count": null,
   "metadata": {},
   "outputs": [],
   "source": [
    "# get all evpn related configs by netconf\n",
    "\n",
    "xpath_nve = f\"/System/eps-items/epId-items/Ep-list/epId=1/nws-items/vni-items/Nw-list[]/vni={vxlan_id}\"\n",
    "xpath_svi = f\"/System/intf-items/svi-items/If-list[]/id=vlan{vlan_id}\"\n",
    "xpath_vlan = f\"/System/bd-items/bd-items/BD-list/fabEncap=vlan-{vlan_id}\"\n",
    "xpath_evpn = f\"/System/evpn-items/bdevi-items/BDEvi-list[]/encap=vxlan-{vxlan_id}\"\n",
    "\n",
    "rpc_nve = xpath2xml(xpath_nve, xmlns)\n",
    "rpc_svi = xpath2xml(xpath_svi, xmlns)\n",
    "rpc_vlan = xpath2xml(xpath_vlan, xmlns)\n",
    "rpc_evpn = xpath2xml(xpath_evpn, xmlns)\n",
    "\n",
    "response = conn.get(filter_=rpc_nve, filter_type=\"subtree\")\n",
    "print(response.result)\n",
    "response = conn.get(filter_=rpc_svi, filter_type=\"subtree\")\n",
    "print(response.result)\n",
    "response = conn.get(filter_=rpc_vlan, filter_type=\"subtree\")\n",
    "print(response.result)\n",
    "response = conn.get(filter_=rpc_evpn, filter_type=\"subtree\")\n",
    "print(response.result)"
   ]
  },
  {
   "cell_type": "code",
   "execution_count": null,
   "metadata": {},
   "outputs": [],
   "source": [
    "# delete given evpn\n",
    "\n",
    "del_evpn_conf = ('<config><System xmlns=\"http://cisco.com/ns/yang/cisco-nx-os-device\">' + \n",
    "        xpath2xml(f\"/eps-items/epId-items/Ep-list/epId=1/nws-items/vni-items/Nw-list[]/vni={vxlan_id}\", '', remove=True) + \n",
    "        xpath2xml(f\"/intf-items/svi-items/If-list[]/id=vlan{vlan_id}\", '', remove=True) + \n",
    "        xpath2xml(f\"/bd-items/bd-items/BD-list[]/fabEncap=vlan-{vlan_id}\", '', remove=True) + \n",
    "        xpath2xml(f\"/evpn-items/bdevi-items/BDEvi-list[]/encap=vxlan-{vxlan_id}\", '', remove=True) + \n",
    "\"</System></config>\")\n",
    "print(conf)"
   ]
  },
  {
   "cell_type": "code",
   "execution_count": null,
   "metadata": {},
   "outputs": [],
   "source": [
    "response = conn.edit_config(config=del_evpn_conf, target=\"running\")\n",
    "print(response.result)"
   ]
  },
  {
   "cell_type": "code",
   "execution_count": null,
   "metadata": {},
   "outputs": [],
   "source": [
    "conn.close()"
   ]
  },
  {
   "cell_type": "code",
   "execution_count": null,
   "metadata": {},
   "outputs": [],
   "source": []
  }
 ],
 "metadata": {
  "kernelspec": {
   "display_name": "Python 3",
   "language": "python",
   "name": "python3"
  },
  "language_info": {
   "codemirror_mode": {
    "name": "ipython",
    "version": 3
   },
   "file_extension": ".py",
   "mimetype": "text/x-python",
   "name": "python",
   "nbconvert_exporter": "python",
   "pygments_lexer": "ipython3",
   "version": "3.8.5-final"
  }
 },
 "nbformat": 4,
 "nbformat_minor": 4
}