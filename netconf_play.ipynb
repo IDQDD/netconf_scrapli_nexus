{
 "cells": [
  {
   "cell_type": "code",
   "execution_count": 5,
   "metadata": {},
   "outputs": [],
   "source": [
    "import re\n",
    "import xml.dom.minidom\n",
    "\n",
    "def ypath2xml(ypath, xmlns='', operation=None):\n",
    "    #transforms xpath-like string (ypath) e.g. \"/System/eps-items/epId-items/Ep-list/epId=1/nws-items/vni-items/Nw-list[]/vni=10444\"\n",
    "    #to xml-like sequence of elements tags: \n",
    "    # <System xmlns=\"http://cisco.com/ns/yang/cisco-nx-os-device\">\n",
    "    #   <eps-items>\n",
    "    #       <epId-items>\n",
    "    #           <Ep-list>\n",
    "    #               <epId>1</epId>\n",
    "    #               <nws-items>\n",
    "    #                   <vni-items>\n",
    "    #                       <Nw-list operation=\"remove\">\n",
    "    #                           <vni>10444</vni>\n",
    "    #                       </Nw-list>\n",
    "    #                   </vni-items>\n",
    "    #               </nws-items>\n",
    "    #           </Ep-list>\n",
    "    #       </epId-items>\n",
    "    #   </eps-items>\n",
    "    # </System>\n",
    "    #\n",
    "    # it has optional parameter 'operation' that adds the string 'operation=\"value\"' to the element marked with square brackets '[]'\n",
    "    # for an nxos the value of the operation can be either \"remove\" or \"replace\"for an nxo\n",
    "    #\n",
    "    # there is a problem with parsing elements that contain the '/' separator within like this tDn element has:\n",
    "    # /System/intf-items/svi-items/If-list/rtvrfMbr-items/tDn=/System/inst-items/Inst-list[name='{vrf_name}']\n",
    "    # the same case if you want to configure a physical interface like Eth103/1/20\n",
    "    # \n",
    "    # as a workaround I mark all the slashes with additional one, then replace that doubleslashes with # sign\n",
    "    # then split ypath and unmark them back\n",
    "\n",
    "    ypath = re.sub(r'//', '#', ypath) # <-- replace doubleslashes with '#'\n",
    "    pl = ypath.split('/')\n",
    "    \n",
    "    xmls = f'<{pl[1]} xmlns=\"{xmlns}\">' if xmlns else f'<{pl[1]}>'\n",
    "    xmle = f'</{pl[1]}>'\n",
    "     \n",
    "    def _ypath2xml(pl):\n",
    "        key = ''\n",
    "        xmls = ''\n",
    "        xmle = ''\n",
    "        operation_set = (\"remove\", \"replace\")\n",
    "        \n",
    "        for i in range(len(pl)):\n",
    "            elem = pl[i]\n",
    "            if \"=\" in elem:\n",
    "                elem,key = elem.split(\"=\", 1)\n",
    "                key = re.sub(r'#', '/', key) # <-- replace '#' with '/'\n",
    "                xmls += f'<{elem}>{key}</{elem}>'\n",
    "                break\n",
    "            \n",
    "            if \"[]\" in elem:\n",
    "                elem = elem[:-2]\n",
    "                if operation:\n",
    "                    if operation not in operation_set:\n",
    "                        raise ValueError(f'Incorrect operation value\\nmust be one of the following: {\", \".join(operation_set)}')\n",
    "                    xmls += f'<{elem} operation=\"{operation}\">'                \n",
    "                else:\n",
    "                    xmls += f'<{elem}>'\n",
    "            else:                    \n",
    "                xmls += f'<{elem}>'\n",
    "            xmle = f'</{elem}>' + xmle\n",
    "     \n",
    "        if key and i < len(pl)-1:\n",
    "            return xmls + _ypath2xml(pl[(i+1)::]) + xmle #recursion\n",
    "        else:\n",
    "            return xmls + xmle\n",
    "         \n",
    "    return xmls + _ypath2xml(pl[2::]) + xmle\n",
    "\n",
    "def ppxml(xmlstr):\n",
    "    print(xml.dom.minidom.parseString(xmlstr).toprettyxml(indent=\"    \"))\n"
   ]
  },
  {
   "cell_type": "code",
   "execution_count": 6,
   "metadata": {},
   "outputs": [],
   "source": [
    "from scrapli_netconf.driver import NetconfScrape\n",
    "my_device = {\n",
    "    \"host\": \"192.168.99.91\",\n",
    "    \"auth_username\": \"apiuser\",\n",
    "    \"auth_password\": \"apipassword\",\n",
    "    \"auth_strict_key\": False,    \n",
    "}\n",
    "\n",
    "conn = NetconfScrape(**my_device)\n",
    "conn.open()\n",
    "xmlns = \"http://cisco.com/ns/yang/cisco-nx-os-device\""
   ]
  },
  {
   "cell_type": "code",
   "execution_count": 7,
   "metadata": {},
   "outputs": [
    {
     "output_type": "stream",
     "name": "stdout",
     "text": [
      "<rpc-reply xmlns=\"urn:ietf:params:xml:ns:netconf:base:1.0\" message-id=\"101\">\n  <data>\n    <System xmlns=\"http://cisco.com/ns/yang/cisco-nx-os-device\">\n      <eps-items>\n        <epId-items>\n          <Ep-list>\n            <epId>1</epId>\n            <nws-items>\n              <vni-items>\n                <Nw-list>\n                  <vni>10333</vni>\n                  <associateVrfFlag>false</associateVrfFlag>\n                  <isLegacyMode>false</isLegacyMode>\n                  <mcastGroup>230.1.1.3</mcastGroup>\n                  <multisiteIngRepl>disable</multisiteIngRepl>\n                  <spineAnyCastGw>false</spineAnyCastGw>\n                  <suppressARP>off</suppressARP>\n                </Nw-list>\n              </vni-items>\n            </nws-items>\n          </Ep-list>\n        </epId-items>\n      </eps-items>\n    </System>\n  </data>\n</rpc-reply>\n\n<rpc-reply xmlns=\"urn:ietf:params:xml:ns:netconf:base:1.0\" message-id=\"102\">\n  <data>\n    <System xmlns=\"http://cisco.com/ns/yang/cisco-nx-os-device\">\n      <intf-items>\n        <svi-items>\n          <If-list>\n            <id>vlan333</id>\n            <adminSt>up</adminSt>\n            <autostate>true</autostate>\n            <bw>1000000</bw>\n            <carDel>100</carDel>\n            <delay>1</delay>\n            <descr>anycast SVI</descr>\n            <inbMgmt>false</inbMgmt>\n            <iod>5</iod>\n            <loadIntvl1>60</loadIntvl1>\n            <loadIntvl2>300</loadIntvl2>\n            <loadIntvl3>60</loadIntvl3>\n            <medium>bcast</medium>\n            <mtu>9000</mtu>\n            <mtuInherit>true</mtuInherit>\n            <operSt>up</operSt>\n            <operStQual>unknown</operStQual>\n            <rtvrfMbr-items>\n              <tDn>/System/inst-items/Inst-list[name='Tenant-1']</tDn>\n            </rtvrfMbr-items>\n            <snmpTrap>true</snmpTrap>\n            <svi-items>\n              <adminSt>up</adminSt>\n              <ifIndex>151060813</ifIndex>\n              <iod>5</iod>\n              <operAutoState>true</operAutoState>\n              <operBw>1000000</operBw>\n              <operCarrierDelayMsec>100</operCarrierDelayMsec>\n              <operCarrierDelaySec>0</operCarrierDelaySec>\n              <operDelay>1</operDelay>\n              <operDescr>anycast SVI</operDescr>\n              <operLastChgSec>1604674208</operLastChgSec>\n              <operLastChgUsec>327535</operLastChgUsec>\n              <operLoadIntvl1>60</operLoadIntvl1>\n              <operLoadIntvl2>300</operLoadIntvl2>\n              <operLoadIntvl3>60</operLoadIntvl3>\n              <operMac>A8:B4:56:AE:F2:77</operMac>\n              <operMtu>9000</operMtu>\n              <operStQual>unknown</operStQual>\n            </svi-items>\n            <vlanId>333</vlanId>\n            <vlanT>bd-regular</vlanT>\n            <vrf-items>\n              <name>Tenant-1</name>\n            </vrf-items>\n          </If-list>\n        </svi-items>\n      </intf-items>\n    </System>\n  </data>\n</rpc-reply>\n\n<rpc-reply xmlns=\"urn:ietf:params:xml:ns:netconf:base:1.0\" message-id=\"103\">\n  <data>\n    <System xmlns=\"http://cisco.com/ns/yang/cisco-nx-os-device\">\n      <bd-items>\n        <bd-items>\n          <BD-list>\n            <fabEncap>vlan-333</fabEncap>\n            <BdState>active</BdState>\n            <accEncap>vxlan-10333</accEncap>\n            <adminSt>active</adminSt>\n            <bridgeMode>mac</bridgeMode>\n            <dbgVlanStats-items>\n              <inBcastOctets>0</inBcastOctets>\n              <inBcastPkts>0</inBcastPkts>\n              <inL3UcastOctets>0</inL3UcastOctets>\n              <inL3UcastPkts>0</inL3UcastPkts>\n              <inMcastOctets>0</inMcastOctets>\n              <inMcastPkts>0</inMcastPkts>\n              <inUcastOctets>0</inUcastOctets>\n              <inUcastPkts>0</inUcastPkts>\n              <outUcastOctets>0</outUcastOctets>\n              <outUcastPkts>0</outUcastPkts>\n            </dbgVlanStats-items>\n            <fwdCtrl>mdst-flood</fwdCtrl>\n            <fwdMode>bridge,route</fwdMode>\n            <id>333</id>\n            <longName>false</longName>\n            <macPacketClassify>disable</macPacketClassify>\n            <mode>CE</mode>\n            <name>l2VNI-10333</name>\n            <operSt>down</operSt>\n            <xConnect>disable</xConnect>\n          </BD-list>\n        </bd-items>\n      </bd-items>\n    </System>\n  </data>\n</rpc-reply>\n\n<rpc-reply xmlns=\"urn:ietf:params:xml:ns:netconf:base:1.0\" message-id=\"104\">\n  <data>\n    <System xmlns=\"http://cisco.com/ns/yang/cisco-nx-os-device\">\n      <evpn-items>\n        <bdevi-items>\n          <BDEvi-list>\n            <encap>vxlan-10333</encap>\n            <operRd>rd:ipv4-nn2:1.1.1.1:33100</operRd>\n            <rd>rd:unknown:0:0</rd>\n            <rttp-items>\n              <RttP-list>\n                <type>import</type>\n                <ent-items>\n                  <RttEntry-list>\n                    <rtt>route-target:unknown:0:0</rtt>\n                  </RttEntry-list>\n                </ent-items>\n              </RttP-list>\n              <RttP-list>\n                <type>export</type>\n                <ent-items>\n                  <RttEntry-list>\n                    <rtt>route-target:unknown:0:0</rtt>\n                  </RttEntry-list>\n                </ent-items>\n              </RttP-list>\n            </rttp-items>\n            <tblMapFltr>false</tblMapFltr>\n          </BDEvi-list>\n        </bdevi-items>\n      </evpn-items>\n    </System>\n  </data>\n</rpc-reply>\n\n"
     ]
    }
   ],
   "source": [
    "# get all evpn related configs by netconf\n",
    "vlan_id = 333\n",
    "vxlan_id = 10333\n",
    "\n",
    "xpath_nve = f\"/System/eps-items/epId-items/Ep-list/epId=1/nws-items/vni-items/Nw-list[]/vni={vxlan_id}\"\n",
    "xpath_svi = f\"/System/intf-items/svi-items/If-list[]/id=vlan{vlan_id}\"\n",
    "xpath_vlan = f\"/System/bd-items/bd-items/BD-list/fabEncap=vlan-{vlan_id}\"\n",
    "xpath_evpn = f\"/System/evpn-items/bdevi-items/BDEvi-list[]/encap=vxlan-{vxlan_id}\"\n",
    "\n",
    "rpc_nve = ypath2xml(xpath_nve, xmlns)\n",
    "rpc_svi = ypath2xml(xpath_svi, xmlns)\n",
    "rpc_vlan = ypath2xml(xpath_vlan, xmlns)\n",
    "rpc_evpn = ypath2xml(xpath_evpn, xmlns)\n",
    "\n",
    "response = conn.get(filter_=rpc_nve, filter_type=\"subtree\")\n",
    "print(response.result)\n",
    "response = conn.get(filter_=rpc_svi, filter_type=\"subtree\")\n",
    "print(response.result)\n",
    "response = conn.get(filter_=rpc_vlan, filter_type=\"subtree\")\n",
    "print(response.result)\n",
    "response = conn.get(filter_=rpc_evpn, filter_type=\"subtree\")\n",
    "print(response.result)"
   ]
  },
  {
   "cell_type": "code",
   "execution_count": 8,
   "metadata": {},
   "outputs": [
    {
     "output_type": "stream",
     "name": "stdout",
     "text": [
      "<?xml version=\"1.0\" ?>\n<config>\n    <System xmlns=\"http://cisco.com/ns/yang/cisco-nx-os-device\">\n        <eps-items>\n            <epId-items>\n                <Ep-list>\n                    <epId>1</epId>\n                    <nws-items>\n                        <vni-items>\n                            <Nw-list operation=\"remove\">\n                                <vni>10333</vni>\n                            </Nw-list>\n                        </vni-items>\n                    </nws-items>\n                </Ep-list>\n            </epId-items>\n        </eps-items>\n        <intf-items>\n            <svi-items>\n                <If-list operation=\"remove\">\n                    <id>vlan333</id>\n                </If-list>\n            </svi-items>\n        </intf-items>\n        <bd-items>\n            <bd-items>\n                <BD-list operation=\"remove\">\n                    <fabEncap>vlan-333</fabEncap>\n                </BD-list>\n            </bd-items>\n        </bd-items>\n        <evpn-items>\n            <bdevi-items>\n                <BDEvi-list operation=\"remove\">\n                    <encap>vxlan-10333</encap>\n                </BDEvi-list>\n            </bdevi-items>\n        </evpn-items>\n    </System>\n</config>\n\n"
     ]
    }
   ],
   "source": [
    "# delete evpn\n",
    "vlan_id = 333\n",
    "vxlan_id = 10333\n",
    "\n",
    "del_evpn_conf = ('<config><System xmlns=\"http://cisco.com/ns/yang/cisco-nx-os-device\">' + \n",
    "        ypath2xml(f\"/eps-items/epId-items/Ep-list/epId=1/nws-items/vni-items/Nw-list[]/vni={vxlan_id}\", operation=\"remove\") + \n",
    "        ypath2xml(f\"/intf-items/svi-items/If-list[]/id=vlan{vlan_id}\", operation=\"remove\") + \n",
    "        ypath2xml(f\"/bd-items/bd-items/BD-list[]/fabEncap=vlan-{vlan_id}\", operation=\"remove\") + \n",
    "        ypath2xml(f\"/evpn-items/bdevi-items/BDEvi-list[]/encap=vxlan-{vxlan_id}\", operation=\"remove\") + \n",
    "\"</System></config>\")\n",
    "\n",
    "\n",
    "ppxml(del_evpn_conf)\n"
   ]
  },
  {
   "cell_type": "code",
   "execution_count": 9,
   "metadata": {},
   "outputs": [
    {
     "output_type": "stream",
     "name": "stdout",
     "text": [
      "<rpc-reply xmlns=\"urn:ietf:params:xml:ns:netconf:base:1.0\" message-id=\"105\">\n  <ok/>\n</rpc-reply>\n\n"
     ]
    }
   ],
   "source": [
    "response = conn.edit_config(config=del_evpn_conf, target=\"running\")\n",
    "print(response.result)"
   ]
  },
  {
   "cell_type": "code",
   "execution_count": 10,
   "metadata": {},
   "outputs": [],
   "source": [
    "conn.close()"
   ]
  },
  {
   "cell_type": "code",
   "execution_count": 12,
   "metadata": {},
   "outputs": [
    {
     "output_type": "stream",
     "name": "stdout",
     "text": [
      "<?xml version=\"1.0\" ?>\n<System xmlns=\"http://cisco.com/ns/yang/cisco-nx-os-device\">\n    <intf-items>\n        <svi-items>\n            <If-list operation=\"replace\">\n                <id>vlan111</id>\n                <mtu>9000</mtu>\n                <descr>blablabla</descr>\n                <adminSt>up</adminSt>\n                <rtvrfMbr-items>\n                    <tDn>/System/inst-items/Inst-list[name='Tenant-1']</tDn>\n                </rtvrfMbr-items>\n            </If-list>\n        </svi-items>\n    </intf-items>\n</System>\n\n"
     ]
    }
   ],
   "source": [
    "xmlns = \"http://cisco.com/ns/yang/cisco-nx-os-device\"\n",
    "xpath = \"/System/intf-items/svi-items/If-list[]/id=vlan111/mtu=9000/descr=blablabla/adminSt=up/rtvrfMbr-items/tDn=//System//inst-items//Inst-list[name='Tenant-1']\"\n",
    "\n",
    "ppxml(ypath2xml(xpath, xmlns=xmlns, operation=\"replace\"))"
   ]
  },
  {
   "cell_type": "code",
   "execution_count": null,
   "metadata": {},
   "outputs": [],
   "source": []
  }
 ],
 "metadata": {
  "kernelspec": {
   "display_name": "Python 3",
   "language": "python",
   "name": "python3"
  },
  "language_info": {
   "codemirror_mode": {
    "name": "ipython",
    "version": 3
   },
   "file_extension": ".py",
   "mimetype": "text/x-python",
   "name": "python",
   "nbconvert_exporter": "python",
   "pygments_lexer": "ipython3",
   "version": "3.8.5-final"
  }
 },
 "nbformat": 4,
 "nbformat_minor": 4
}