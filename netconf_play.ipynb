{
 "cells": [
  {
   "cell_type": "code",
   "execution_count": 24,
   "metadata": {},
   "outputs": [],
   "source": [
    "from scrapli_netconf.driver import NetconfScrape\n",
    "my_device = {\n",
    "    \"host\": \"192.168.99.91\",\n",
    "    \"auth_username\": \"apiuser\",\n",
    "    \"auth_password\": \"apipassword\",\n",
    "    \"auth_strict_key\": False,    \n",
    "}\n",
    "\n",
    "conn = NetconfScrape(**my_device)\n",
    "conn.open()\n",
    "xmlns = \"http://cisco.com/ns/yang/cisco-nx-os-device\""
   ]
  },
  {
   "cell_type": "code",
   "execution_count": 25,
   "metadata": {},
   "outputs": [
    {
     "output_type": "stream",
     "name": "stdout",
     "text": [
      "<rpc-reply xmlns=\"urn:ietf:params:xml:ns:netconf:base:1.0\" message-id=\"101\">\n  <data>\n    <System xmlns=\"http://cisco.com/ns/yang/cisco-nx-os-device\">\n      <eps-items>\n        <epId-items>\n          <Ep-list>\n            <epId>1</epId>\n          </Ep-list>\n        </epId-items>\n      </eps-items>\n    </System>\n  </data>\n</rpc-reply>\n\n<rpc-reply xmlns=\"urn:ietf:params:xml:ns:netconf:base:1.0\" message-id=\"102\">\n  <data>\n    <System xmlns=\"http://cisco.com/ns/yang/cisco-nx-os-device\"/>\n  </data>\n</rpc-reply>\n\n<rpc-reply xmlns=\"urn:ietf:params:xml:ns:netconf:base:1.0\" message-id=\"103\">\n  <data>\n    <System xmlns=\"http://cisco.com/ns/yang/cisco-nx-os-device\"/>\n  </data>\n</rpc-reply>\n\n<rpc-reply xmlns=\"urn:ietf:params:xml:ns:netconf:base:1.0\" message-id=\"104\">\n  <data>\n    <System xmlns=\"http://cisco.com/ns/yang/cisco-nx-os-device\"/>\n  </data>\n</rpc-reply>\n\n"
     ]
    }
   ],
   "source": [
    "# get all evpn related configs by netconf\n",
    "vlan_id = 333\n",
    "vxlan_id = 10333\n",
    "\n",
    "xpath_nve = f\"/System/eps-items/epId-items/Ep-list/epId=1/nws-items/vni-items/Nw-list[]/vni={vxlan_id}\"\n",
    "xpath_svi = f\"/System/intf-items/svi-items/If-list[]/id=vlan{vlan_id}\"\n",
    "xpath_vlan = f\"/System/bd-items/bd-items/BD-list/fabEncap=vlan-{vlan_id}\"\n",
    "xpath_evpn = f\"/System/evpn-items/bdevi-items/BDEvi-list[]/encap=vxlan-{vxlan_id}\"\n",
    "\n",
    "rpc_nve = ypath2xml(xpath_nve, xmlns)\n",
    "rpc_svi = ypath2xml(xpath_svi, xmlns)\n",
    "rpc_vlan = ypath2xml(xpath_vlan, xmlns)\n",
    "rpc_evpn = ypath2xml(xpath_evpn, xmlns)\n",
    "\n",
    "response = conn.get(filter_=rpc_nve, filter_type=\"subtree\")\n",
    "print(response.result)\n",
    "response = conn.get(filter_=rpc_svi, filter_type=\"subtree\")\n",
    "print(response.result)\n",
    "response = conn.get(filter_=rpc_vlan, filter_type=\"subtree\")\n",
    "print(response.result)\n",
    "response = conn.get(filter_=rpc_evpn, filter_type=\"subtree\")\n",
    "print(response.result)"
   ]
  },
  {
   "cell_type": "code",
   "execution_count": 26,
   "metadata": {},
   "outputs": [
    {
     "output_type": "stream",
     "name": "stdout",
     "text": [
      "<?xml version=\"1.0\" ?>\n<config>\n    <System xmlns=\"http://cisco.com/ns/yang/cisco-nx-os-device\">\n        <eps-items>\n            <epId-items>\n                <Ep-list>\n                    <epId>1</epId>\n                    <nws-items>\n                        <vni-items>\n                            <Nw-list operation=\"remove\">\n                                <vni>10333</vni>\n                            </Nw-list>\n                        </vni-items>\n                    </nws-items>\n                </Ep-list>\n            </epId-items>\n        </eps-items>\n        <intf-items>\n            <svi-items>\n                <If-list operation=\"remove\">\n                    <id>vlan333</id>\n                </If-list>\n            </svi-items>\n        </intf-items>\n        <bd-items>\n            <bd-items>\n                <BD-list operation=\"remove\">\n                    <fabEncap>vlan-333</fabEncap>\n                </BD-list>\n            </bd-items>\n        </bd-items>\n        <evpn-items>\n            <bdevi-items>\n                <BDEvi-list operation=\"remove\">\n                    <encap>vxlan-10333</encap>\n                </BDEvi-list>\n            </bdevi-items>\n        </evpn-items>\n    </System>\n</config>\n\n"
     ]
    }
   ],
   "source": [
    "# delete evpn\n",
    "vlan_id = 333\n",
    "vxlan_id = 10333\n",
    "\n",
    "del_evpn_conf = ('<config><System xmlns=\"http://cisco.com/ns/yang/cisco-nx-os-device\">' + \n",
    "        ypath2xml(f\"/eps-items/epId-items/Ep-list/epId=1/nws-items/vni-items/Nw-list[]/vni={vxlan_id}\", operation=\"remove\") + \n",
    "        ypath2xml(f\"/intf-items/svi-items/If-list[]/id=vlan{vlan_id}\", operation=\"remove\") + \n",
    "        ypath2xml(f\"/bd-items/bd-items/BD-list[]/fabEncap=vlan-{vlan_id}\", operation=\"remove\") + \n",
    "        ypath2xml(f\"/evpn-items/bdevi-items/BDEvi-list[]/encap=vxlan-{vxlan_id}\", operation=\"remove\") + \n",
    "\"</System></config>\")\n",
    "\n",
    "\n",
    "ppxml(del_evpn_conf)\n"
   ]
  },
  {
   "cell_type": "code",
   "execution_count": 27,
   "metadata": {},
   "outputs": [
    {
     "output_type": "stream",
     "name": "stdout",
     "text": [
      "<rpc-reply xmlns=\"urn:ietf:params:xml:ns:netconf:base:1.0\" message-id=\"105\">\n  <ok/>\n</rpc-reply>\n\n"
     ]
    }
   ],
   "source": [
    "response = conn.edit_config(config=del_evpn_conf, target=\"running\")\n",
    "print(response.result)"
   ]
  },
  {
   "cell_type": "code",
   "execution_count": 28,
   "metadata": {},
   "outputs": [],
   "source": [
    "conn.close()"
   ]
  },
  {
   "cell_type": "code",
   "execution_count": 13,
   "metadata": {},
   "outputs": [
    {
     "output_type": "stream",
     "name": "stdout",
     "text": [
      "<?xml version=\"1.0\" ?>\n<System xmlns=\"http://cisco.com/ns/yang/cisco-nx-os-device\">\n    <intf-items>\n        <svi-items>\n            <If-list operation=\"replace\">\n                <id>vlan111</id>\n                <mtu>9000</mtu>\n                <descr>blablabla</descr>\n                <adminSt>up</adminSt>\n                <rtvrfMbr-items>\n                    <tDn>/System/inst-items/Inst-list[name='Tenant-1']</tDn>\n                </rtvrfMbr-items>\n            </If-list>\n        </svi-items>\n    </intf-items>\n</System>\n\n"
     ]
    }
   ],
   "source": [
    "xmlns = \"http://cisco.com/ns/yang/cisco-nx-os-device\"\n",
    "xpath = \"/System/intf-items/svi-items/If-list[]/id=vlan111/mtu=9000/descr=blablabla/adminSt=up/rtvrfMbr-items/tDn=//System//inst-items//Inst-list[name='Tenant-1']\"\n",
    "\n",
    "ppxml(ypath2xml(xpath, xmlns=xmlns, operation=\"replace\"))"
   ]
  },
  {
   "cell_type": "code",
   "execution_count": 2,
   "metadata": {},
   "outputs": [],
   "source": [
    "from nornir import InitNornir\n",
    "from nornir.core.task import Task, Result        \n",
    "nr = InitNornir(config_file=\"config_nornir.yaml\")\n",
    "nr = nr.filter(site=\"site1\")\n",
    "\n"
   ]
  },
  {
   "cell_type": "code",
   "execution_count": 4,
   "metadata": {},
   "outputs": [],
   "source": [
    "vlan_id = 1234\n",
    "vlan_name = \"VL1234\"\n",
    "vrf_name = \"Tenant-1\"\n",
    "mtu = 9000\n",
    "description = \"configured by netconf\"\n",
    "ip_address = \"10.0.12.34//24\""
   ]
  },
  {
   "cell_type": "code",
   "execution_count": 5,
   "metadata": {},
   "outputs": [],
   "source": [
    "from ypath import ypath_system, ppxml\n",
    "\n",
    "vlan_get_path = f\"/bd-items/bd-items/BD-list[]/fabEncap=vlan-{vlan_id}\"\n",
    "svi_get_path = f\"/intf-items/svi-items/If-list[]/id=vlan{vlan_id}\"\n",
    "ipv4_get_path = f\"/ipv4-items/inst-items/dom-items/Dom-list/name={vrf_name}/if-items/If-list[]/id=vlan{vlan_id}\""
   ]
  },
  {
   "cell_type": "code",
   "execution_count": 8,
   "metadata": {},
   "outputs": [
    {
     "output_type": "stream",
     "name": "stdout",
     "text": [
      "<?xml version=\"1.0\" ?>\n<config>\n    <System xmlns=\"http://cisco.com/ns/yang/cisco-nx-os-device\">\n        <bd-items>\n            <bd-items>\n                <BD-list operation=\"replace\">\n                    <fabEncap>vlan-1234</fabEncap>\n                    <name>VL1234</name>\n                    <id>1234</id>\n                    <BdState>active</BdState>\n                    <adminSt>active</adminSt>\n                    <bridgeMode>mac</bridgeMode>\n                    <fwdCtrl>mdst-flood</fwdCtrl>\n                    <fwdMode>bridge,route</fwdMode>\n                    <mode>CE</mode>\n                </BD-list>\n            </bd-items>\n        </bd-items>\n        <intf-items>\n            <svi-items>\n                <If-list operation=\"replace\">\n                    <id>vlan1234</id>\n                    <mtu>9000</mtu>\n                    <descr>configured by netconf</descr>\n                    <adminSt>up</adminSt>\n                    <rtvrfMbr-items>\n                        <tDn>/System/inst-items/Inst-list[name='Tenant-1']</tDn>\n                    </rtvrfMbr-items>\n                </If-list>\n            </svi-items>\n        </intf-items>\n        <ipv4-items>\n            <inst-items>\n                <dom-items>\n                    <Dom-list>\n                        <name>Tenant-1</name>\n                        <if-items>\n                            <If-list operation=\"replace\">\n                                <id>vlan1234</id>\n                                <addr-items>\n                                    <Addr-list>\n                                        <addr>10.0.12.34/24</addr>\n                                    </Addr-list>\n                                </addr-items>\n                            </If-list>\n                        </if-items>\n                    </Dom-list>\n                </dom-items>\n            </inst-items>\n        </ipv4-items>\n    </System>\n</config>\n\n"
     ]
    }
   ],
   "source": [
    "\n",
    "vlan_config_path = vlan_get_path + f\"/name={vlan_name}/id={vlan_id}/BdState=active/adminSt=active/bridgeMode=mac/fwdCtrl=mdst-flood/fwdMode=bridge,route/mode=CE\"\n",
    "svi_config_path = svi_get_path + f\"/mtu={mtu}/descr={description}/adminSt=up/rtvrfMbr-items/tDn=//System//inst-items//Inst-list[name='{vrf_name}']\"\n",
    "ipv4_config_path = ipv4_get_path + f\"/addr-items/Addr-list/addr={ip_address}\"\n",
    "\n",
    "ypath_config = [vlan_config_path, svi_config_path, ipv4_config_path]\n",
    "\n",
    "config_xml = \"<config>\" + ypath_system(ypath_config, operation=\"replace\") + \"</config>\"\n",
    "ppxml(config_xml)\n",
    "\n",
    "def create_vxlan(task: Task, config_xml) -> Result:\n",
    "    my_device = {\n",
    "    \"host\": task.host[\"hostname\"],\n",
    "    \"auth_username\": task.host[\"username\"],\n",
    "    \"auth_password\": task.host[\"password\"],\n",
    "    \"auth_strict_key\": False,    \n",
    "    }\n",
    "\n",
    "    with NetconfScrape(**my_device) as conn:\n",
    "        conn.open()\n",
    "        resp = conn.edit_config(config=config_xml, target=datastore)\n",
    "    \n",
    "\n"
   ]
  },
  {
   "cell_type": "code",
   "execution_count": null,
   "metadata": {},
   "outputs": [],
   "source": []
  }
 ],
 "metadata": {
  "kernelspec": {
   "display_name": "Python 3",
   "language": "python",
   "name": "python3"
  },
  "language_info": {
   "codemirror_mode": {
    "name": "ipython",
    "version": 3
   },
   "file_extension": ".py",
   "mimetype": "text/x-python",
   "name": "python",
   "nbconvert_exporter": "python",
   "pygments_lexer": "ipython3",
   "version": "3.8.5-final"
  }
 },
 "nbformat": 4,
 "nbformat_minor": 4
}