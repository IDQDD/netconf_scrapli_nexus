{
 "cells": [
  {
   "cell_type": "code",
   "execution_count": 15,
   "metadata": {},
   "outputs": [],
   "source": [
    "import re\n",
    "import xml.dom.minidom\n",
    "\n",
    "def xpath2xml(xpath, xmlns='', operation=None):\n",
    "    #transforms xpath like string e.g. \"/System/eps-items/epId-items/Ep-list/epId=1/nws-items/vni-items/Nw-list[]/vni=10444\"\n",
    "    #to xml-like sequence of elements tags: \n",
    "    # <System xmlns=\"http://cisco.com/ns/yang/cisco-nx-os-device\">\n",
    "    #   <eps-items>\n",
    "    #       <epId-items>\n",
    "    #           <Ep-list>\n",
    "    #               <epId>1</epId>\n",
    "    #               <nws-items>\n",
    "    #                   <vni-items>\n",
    "    #                       <Nw-list operation=\"remove\">\n",
    "    #                           <vni>10444</vni>\n",
    "    #                       </Nw-list>\n",
    "    #                   </vni-items>\n",
    "    #               </nws-items>\n",
    "    #           </Ep-list>\n",
    "    #       </epId-items>\n",
    "    #   </eps-items>\n",
    "    # </System>\n",
    "    #\n",
    "    # it has optional parameter 'operation' that adds the string 'operation=\"value\"' to the element marked with square brackets '[]'\n",
    "    # RFC6241 https://tools.ietf.org/html/rfc6241#page-37\n",
    "    #\n",
    "    # there is a problem with parsing elements that contain the '/' separator within like this tDn element has:\n",
    "    # /System/intf-items/svi-items/If-list/rtvrfMbr-items/tDn=/System/inst-items/Inst-list[name='{vrf_name}']\n",
    "    # the same case if you want to configure a physical interface like Eth103/1/20\n",
    "    # \n",
    "    # as a workaround I mark all the slashes with additional one, then replace that doubleslashes with # sign\n",
    "    # then split xpath and unmark them back\n",
    "\n",
    "    xpath = re.sub(r'//', '#', xpath) # <-- replace doubleslashes with '#'\n",
    "    pl = xpath.split('/')\n",
    "    \n",
    "    xmls = f'<{pl[1]} xmlns=\"{xmlns}\">' if xmlns else f'<{pl[1]}>'\n",
    "    xmle = f'</{pl[1]}>'\n",
    "     \n",
    "    def _xpath2xml(pl):\n",
    "        key = ''\n",
    "        xmls = ''\n",
    "        xmle = ''\n",
    "        operation_set = (\"merge\", \"replace\", \"create\", \"delete\", \"remove\")\n",
    "\n",
    "        for i in range(len(pl)):\n",
    "            elem = pl[i]\n",
    "            if \"=\" in elem:\n",
    "                elem,key = elem.split(\"=\", 1)\n",
    "                key = re.sub(r'#', '/', key) # <-- replace '#'\n",
    "                xmls += f'<{elem}>{key}</{elem}>'\n",
    "                break\n",
    "            if \"[]\" in elem:\n",
    "                elem = elem[:-2]\n",
    "                if operation:\n",
    "                    if operation not in operation_set:\n",
    "                        raise ValueError(f'Incorrect operation value\\nmust be one of the following: {\", \".join(operation_set)}')\n",
    "                    xmls += f'<{elem} operation=\"{operation}\">'                \n",
    "                else:\n",
    "                    xmls += f'<{elem}>'\n",
    "            else:                    \n",
    "                xmls += f'<{elem}>'\n",
    "            xmle = f'</{elem}>' + xmle\n",
    "     \n",
    "        if key and i < len(pl)-1:\n",
    "            return xmls + _xpath2xml(pl[(i+1)::]) + xmle #recursion\n",
    "        else:\n",
    "            return xmls + xmle\n",
    "         \n",
    "    return xmls + _xpath2xml(pl[2::]) + xmle\n",
    "\n",
    "def ppxml(xmlstr):\n",
    "    print(xml.dom.minidom.parseString(xmlstr).toprettyxml(indent=\"    \"))"
   ]
  },
  {
   "cell_type": "code",
   "execution_count": 16,
   "metadata": {},
   "outputs": [],
   "source": [
    "from scrapli_netconf.driver import NetconfScrape\n",
    "my_device = {\n",
    "    \"host\": \"192.168.99.91\",\n",
    "    \"auth_username\": \"apiuser\",\n",
    "    \"auth_password\": \"apipassword\",\n",
    "    \"auth_strict_key\": False,    \n",
    "}\n",
    "\n",
    "conn = NetconfScrape(**my_device)\n",
    "conn.open()\n",
    "xmlns = \"http://cisco.com/ns/yang/cisco-nx-os-device\""
   ]
  },
  {
   "cell_type": "code",
   "execution_count": 17,
   "metadata": {},
   "outputs": [
    {
     "output_type": "stream",
     "name": "stdout",
     "text": [
      "<rpc-reply xmlns=\"urn:ietf:params:xml:ns:netconf:base:1.0\" message-id=\"101\">\n  <data>\n    <System xmlns=\"http://cisco.com/ns/yang/cisco-nx-os-device\">\n      <eps-items>\n        <epId-items>\n          <Ep-list>\n            <epId>1</epId>\n            <nws-items>\n              <vni-items>\n                <Nw-list>\n                  <vni>10444</vni>\n                  <associateVrfFlag>false</associateVrfFlag>\n                  <isLegacyMode>false</isLegacyMode>\n                  <mcastGroup>230.1.1.4</mcastGroup>\n                  <multisiteIngRepl>disable</multisiteIngRepl>\n                  <spineAnyCastGw>false</spineAnyCastGw>\n                  <suppressARP>enabled</suppressARP>\n                </Nw-list>\n              </vni-items>\n            </nws-items>\n          </Ep-list>\n        </epId-items>\n      </eps-items>\n    </System>\n  </data>\n</rpc-reply>\n\n<rpc-reply xmlns=\"urn:ietf:params:xml:ns:netconf:base:1.0\" message-id=\"102\">\n  <data>\n    <System xmlns=\"http://cisco.com/ns/yang/cisco-nx-os-device\">\n      <intf-items>\n        <svi-items>\n          <If-list>\n            <id>vlan444</id>\n            <adminSt>up</adminSt>\n            <autostate>true</autostate>\n            <bw>1000000</bw>\n            <carDel>100</carDel>\n            <delay>1</delay>\n            <descr>2nd anycast SVI (by netconf)</descr>\n            <inbMgmt>false</inbMgmt>\n            <iod>6</iod>\n            <loadIntvl1>60</loadIntvl1>\n            <loadIntvl2>300</loadIntvl2>\n            <loadIntvl3>60</loadIntvl3>\n            <medium>bcast</medium>\n            <mtu>1500</mtu>\n            <mtuInherit>true</mtuInherit>\n            <operSt>up</operSt>\n            <operStQual>unknown</operStQual>\n            <rtvrfMbr-items>\n              <tDn>/System/inst-items/Inst-list[name='Tenant-1']</tDn>\n            </rtvrfMbr-items>\n            <snmpTrap>true</snmpTrap>\n            <svi-items>\n              <adminSt>up</adminSt>\n              <ifIndex>151060924</ifIndex>\n              <iod>6</iod>\n              <operAutoState>true</operAutoState>\n              <operBw>1000000</operBw>\n              <operCarrierDelayMsec>100</operCarrierDelayMsec>\n              <operCarrierDelaySec>0</operCarrierDelaySec>\n              <operDelay>1</operDelay>\n              <operDescr>2nd anycast SVI (by netconf)</operDescr>\n              <operLastChgSec>1604674208</operLastChgSec>\n              <operLastChgUsec>282441</operLastChgUsec>\n              <operLoadIntvl1>60</operLoadIntvl1>\n              <operLoadIntvl2>300</operLoadIntvl2>\n              <operLoadIntvl3>60</operLoadIntvl3>\n              <operMac>A8:B4:56:AE:F2:77</operMac>\n              <operMtu>1500</operMtu>\n              <operStQual>unknown</operStQual>\n            </svi-items>\n            <vlanId>444</vlanId>\n            <vlanT>bd-regular</vlanT>\n            <vrf-items>\n              <name>Tenant-1</name>\n            </vrf-items>\n          </If-list>\n        </svi-items>\n      </intf-items>\n    </System>\n  </data>\n</rpc-reply>\n\n<rpc-reply xmlns=\"urn:ietf:params:xml:ns:netconf:base:1.0\" message-id=\"103\">\n  <data>\n    <System xmlns=\"http://cisco.com/ns/yang/cisco-nx-os-device\">\n      <bd-items>\n        <bd-items>\n          <BD-list>\n            <fabEncap>vlan-444</fabEncap>\n            <BdState>active</BdState>\n            <accEncap>vxlan-10444</accEncap>\n            <adminSt>active</adminSt>\n            <bridgeMode>mac</bridgeMode>\n            <fwdCtrl>mdst-flood</fwdCtrl>\n            <fwdMode>bridge,route</fwdMode>\n            <id>444</id>\n            <longName>false</longName>\n            <macPacketClassify>disable</macPacketClassify>\n            <mode>CE</mode>\n            <name>l2VNI-10444</name>\n            <operSt>down</operSt>\n            <xConnect>disable</xConnect>\n          </BD-list>\n        </bd-items>\n      </bd-items>\n    </System>\n  </data>\n</rpc-reply>\n\n<rpc-reply xmlns=\"urn:ietf:params:xml:ns:netconf:base:1.0\" message-id=\"104\">\n  <data>\n    <System xmlns=\"http://cisco.com/ns/yang/cisco-nx-os-device\">\n      <evpn-items>\n        <bdevi-items>\n          <BDEvi-list>\n            <encap>vxlan-10444</encap>\n            <operRd>rd:ipv4-nn2:1.1.1.1:33211</operRd>\n            <rd>rd:unknown:0:0</rd>\n            <rttp-items>\n              <RttP-list>\n                <type>import</type>\n                <ent-items>\n                  <RttEntry-list>\n                    <rtt>route-target:unknown:0:0</rtt>\n                  </RttEntry-list>\n                </ent-items>\n              </RttP-list>\n              <RttP-list>\n                <type>export</type>\n                <ent-items>\n                  <RttEntry-list>\n                    <rtt>route-target:unknown:0:0</rtt>\n                  </RttEntry-list>\n                </ent-items>\n              </RttP-list>\n            </rttp-items>\n            <tblMapFltr>false</tblMapFltr>\n          </BDEvi-list>\n        </bdevi-items>\n      </evpn-items>\n    </System>\n  </data>\n</rpc-reply>\n\n"
     ]
    }
   ],
   "source": [
    "# get all evpn related configs by netconf\n",
    "vlan_id = 444\n",
    "vxlan_id = 10444\n",
    "\n",
    "xpath_nve = f\"/System/eps-items/epId-items/Ep-list/epId=1/nws-items/vni-items/Nw-list[]/vni={vxlan_id}\"\n",
    "xpath_svi = f\"/System/intf-items/svi-items/If-list[]/id=vlan{vlan_id}\"\n",
    "xpath_vlan = f\"/System/bd-items/bd-items/BD-list/fabEncap=vlan-{vlan_id}\"\n",
    "xpath_evpn = f\"/System/evpn-items/bdevi-items/BDEvi-list[]/encap=vxlan-{vxlan_id}\"\n",
    "\n",
    "rpc_nve = xpath2xml(xpath_nve, xmlns)\n",
    "rpc_svi = xpath2xml(xpath_svi, xmlns)\n",
    "rpc_vlan = xpath2xml(xpath_vlan, xmlns)\n",
    "rpc_evpn = xpath2xml(xpath_evpn, xmlns)\n",
    "\n",
    "response = conn.get(filter_=rpc_nve, filter_type=\"subtree\")\n",
    "print(response.result)\n",
    "response = conn.get(filter_=rpc_svi, filter_type=\"subtree\")\n",
    "print(response.result)\n",
    "response = conn.get(filter_=rpc_vlan, filter_type=\"subtree\")\n",
    "print(response.result)\n",
    "response = conn.get(filter_=rpc_evpn, filter_type=\"subtree\")\n",
    "print(response.result)"
   ]
  },
  {
   "cell_type": "code",
   "execution_count": 18,
   "metadata": {},
   "outputs": [
    {
     "output_type": "stream",
     "name": "stdout",
     "text": [
      "<?xml version=\"1.0\" ?>\n<config>\n    <System xmlns=\"http://cisco.com/ns/yang/cisco-nx-os-device\">\n        <eps-items>\n            <epId-items>\n                <Ep-list>\n                    <epId>1</epId>\n                    <nws-items>\n                        <vni-items>\n                            <Nw-list operation=\"remove\">\n                                <vni>10444</vni>\n                            </Nw-list>\n                        </vni-items>\n                    </nws-items>\n                </Ep-list>\n            </epId-items>\n        </eps-items>\n        <intf-items>\n            <svi-items>\n                <If-list operation=\"remove\">\n                    <id>vlan444</id>\n                </If-list>\n            </svi-items>\n        </intf-items>\n        <bd-items>\n            <bd-items>\n                <BD-list operation=\"remove\">\n                    <fabEncap>vlan-444</fabEncap>\n                </BD-list>\n            </bd-items>\n        </bd-items>\n        <evpn-items>\n            <bdevi-items>\n                <BDEvi-list operation=\"remove\">\n                    <encap>vxlan-10444</encap>\n                </BDEvi-list>\n            </bdevi-items>\n        </evpn-items>\n    </System>\n</config>\n\n"
     ]
    }
   ],
   "source": [
    "# delete evpn\n",
    "vlan_id = 444\n",
    "vxlan_id = 10444\n",
    "\n",
    "del_evpn_conf = ('<config><System xmlns=\"http://cisco.com/ns/yang/cisco-nx-os-device\">' + \n",
    "        xpath2xml(f\"/eps-items/epId-items/Ep-list/epId=1/nws-items/vni-items/Nw-list[]/vni={vxlan_id}\", operation=\"remove\") + \n",
    "        xpath2xml(f\"/intf-items/svi-items/If-list[]/id=vlan{vlan_id}\", operation=\"remove\") + \n",
    "        xpath2xml(f\"/bd-items/bd-items/BD-list[]/fabEncap=vlan-{vlan_id}\", operation=\"remove\") + \n",
    "        xpath2xml(f\"/evpn-items/bdevi-items/BDEvi-list[]/encap=vxlan-{vxlan_id}\", operation=\"remove\") + \n",
    "\"</System></config>\")\n",
    "\n",
    "\n",
    "ppxml(del_evpn_conf)\n"
   ]
  },
  {
   "cell_type": "code",
   "execution_count": 19,
   "metadata": {},
   "outputs": [
    {
     "output_type": "stream",
     "name": "stdout",
     "text": [
      "<rpc-reply xmlns=\"urn:ietf:params:xml:ns:netconf:base:1.0\" message-id=\"105\">\n  <ok/>\n</rpc-reply>\n\n"
     ]
    }
   ],
   "source": [
    "response = conn.edit_config(config=del_evpn_conf, target=\"running\")\n",
    "print(response.result)"
   ]
  },
  {
   "cell_type": "code",
   "execution_count": 20,
   "metadata": {},
   "outputs": [],
   "source": [
    "conn.close()"
   ]
  },
  {
   "cell_type": "code",
   "execution_count": 21,
   "metadata": {},
   "outputs": [
    {
     "output_type": "stream",
     "name": "stdout",
     "text": [
      "<?xml version=\"1.0\" ?>\n<System xmlns=\"http://cisco.com/ns/yang/cisco-nx-os-device\">\n    <intf-items>\n        <svi-items>\n            <If-list operation=\"replace\">\n                <id>vlan111</id>\n                <mtu>9000</mtu>\n                <descr>blablabla</descr>\n                <adminSt>up</adminSt>\n                <rtvrfMbr-items>\n                    <tDn>/System/inst-items/Inst-list[name='Tenant-1']</tDn>\n                </rtvrfMbr-items>\n            </If-list>\n        </svi-items>\n    </intf-items>\n</System>\n\n"
     ]
    }
   ],
   "source": [
    "xmlns = \"http://cisco.com/ns/yang/cisco-nx-os-device\"\n",
    "xpath = \"/System/intf-items/svi-items/If-list[]/id=vlan111/mtu=9000/descr=blablabla/adminSt=up/rtvrfMbr-items/tDn=//System//inst-items//Inst-list[name='Tenant-1']\"\n",
    "\n",
    "ppxml(xpath2xml(xpath, xmlns=xmlns, operation=\"replace\"))"
   ]
  },
  {
   "cell_type": "code",
   "execution_count": null,
   "metadata": {},
   "outputs": [],
   "source": []
  }
 ],
 "metadata": {
  "kernelspec": {
   "display_name": "Python 3",
   "language": "python",
   "name": "python3"
  },
  "language_info": {
   "codemirror_mode": {
    "name": "ipython",
    "version": 3
   },
   "file_extension": ".py",
   "mimetype": "text/x-python",
   "name": "python",
   "nbconvert_exporter": "python",
   "pygments_lexer": "ipython3",
   "version": "3.8.5-final"
  }
 },
 "nbformat": 4,
 "nbformat_minor": 4
}